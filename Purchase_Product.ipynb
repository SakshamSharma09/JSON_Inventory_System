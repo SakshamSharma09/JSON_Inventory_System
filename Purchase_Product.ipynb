{
  "nbformat": 4,
  "nbformat_minor": 0,
  "metadata": {
    "colab": {
      "name": "Purchase_Product.ipynb",
      "provenance": []
    },
    "kernelspec": {
      "name": "python3",
      "display_name": "Python 3"
    },
    "language_info": {
      "name": "python"
    }
  },
  "cells": [
    {
      "cell_type": "code",
      "metadata": {
        "id": "wp39NBEL0ml5"
      },
      "source": [
        "import json\n",
        "i=1"
      ],
      "execution_count": 50,
      "outputs": []
    },
    {
      "cell_type": "code",
      "metadata": {
        "id": "fKjynVYt0IqP"
      },
      "source": [
        "file = open(\"records.json\",'r')\n",
        "data = file.read()\n",
        "file.close()"
      ],
      "execution_count": 51,
      "outputs": []
    },
    {
      "cell_type": "code",
      "metadata": {
        "id": "zBR3bSNb0lPV"
      },
      "source": [
        "json_dat = json.loads(data)\n"
      ],
      "execution_count": 52,
      "outputs": []
    },
    {
      "cell_type": "code",
      "metadata": {
        "colab": {
          "base_uri": "https://localhost:8080/"
        },
        "id": "vu2YdwNk07Pg",
        "outputId": "f2172aeb-8197-4401-b9f2-e26e9ff7dda5"
      },
      "source": [
        "json_dat\n"
      ],
      "execution_count": 53,
      "outputs": [
        {
          "output_type": "execute_result",
          "data": {
            "text/plain": [
              "{'1001': {'name': 'Choco Cake', 'pr': 100, 'qn': 34},\n",
              " '1002': {'name': 'Milk Cake', 'pr': 800, 'qn': 100},\n",
              " '1003': {'name': 'Drink', 'pr': 85, 'qn': 100},\n",
              " '1004': {'name': 'Candy', 'pr': 5, 'qn': 1000},\n",
              " '1005': {'name': 'Pen', 'pr': 20, 'qn': 100},\n",
              " '1006': {'name': 'Phone', 'pr': 50000, 'qn': 10},\n",
              " '1007': {'name': 'Mic', 'pr': 1500, 'qn': 0},\n",
              " '1008': {'name': 'Case', 'pr': 599, 'qn': 5},\n",
              " '1009': {'name': 'Keyboard', 'pr': 1999, 'qn': 10},\n",
              " '1010': {'name': 'Backpack', 'pr': 499, 'qn': 20},\n",
              " '1011': {'name': 'Earphone', 'pr': 300, 'qn': 50},\n",
              " '1012': {'name': 'Mobile Case', 'pr': 99, 'qn': 90},\n",
              " '1013': {'name': 'Wall Clock', 'pr': 649, 'qn': 12},\n",
              " '1014': {'name': 'Notebook', 'pr': 48, 'qn': 58},\n",
              " '1015': {'name': 'Pillow', 'pr': 299, 'qn': 30},\n",
              " '1016': {'name': 'Bedsheets', 'pr': 789, 'qn': 36},\n",
              " '1017': {'name': 'Dish Washer', 'pr': 2999, 'qn': 9},\n",
              " '1018': {'name': 'Noodles', 'pr': 78, 'qn': 35},\n",
              " '1019': {'name': 'Toys', 'pr': 35, 'qn': 15},\n",
              " '1020': {'name': 'Tubelight', 'pr': 300, 'qn': 10},\n",
              " '1021': {'name': 'Wall Stickers', 'pr': 29, 'qn': 145},\n",
              " '1022': {'name': 'Face Wash', 'pr': 150, 'qn': 32},\n",
              " '1023': {'name': 'Detergent', 'pr': 89, 'qn': 30},\n",
              " '1024': {'name': 'Soap', 'pr': 34, 'qn': 90},\n",
              " '1025': {'name': 'Lunch Box', 'pr': 550, 'qn': 20},\n",
              " '1026': {'name': 'Water Bottle', 'pr': 89, 'qn': 34},\n",
              " '1027': {'name': 'Smartphone', 'pr': 14899, 'qn': 17},\n",
              " '1028': {'name': 'DSLR', 'pr': 49000, 'qn': 7},\n",
              " '1029': {'name': 'Jeans', 'pr': 1099, 'qn': 15},\n",
              " '1030': {'name': 'Study Table', 'pr': 700, 'qn': 24},\n",
              " '1031': {'name': 'Photoframe', 'pr': 299, 'qn': 30},\n",
              " '1032': {'name': 'Books', 'pr': 199, 'qn': 25},\n",
              " '1033': {'name': 'Screen Cover', 'pr': 59, 'qn': 67},\n",
              " '1034': {'name': 'Trimmer', 'pr': 1499, 'qn': 15},\n",
              " '1035': {'name': 'Laptop', 'pr': 65499, 'qn': 0}}"
            ]
          },
          "metadata": {},
          "execution_count": 53
        }
      ]
    },
    {
      "cell_type": "code",
      "metadata": {
        "colab": {
          "base_uri": "https://localhost:8080/"
        },
        "id": "GPlGQHKZ1AaC",
        "outputId": "40f5aa94-b67a-4299-cdca-e55955cd1ddc"
      },
      "source": [
        "user_prod = str(input(\"Enter the product id to purchase\"))\n",
        "user_quan = int(input(\"Enter the quantity to be purchased of the product specified\"))\n",
        "\n",
        "\n",
        "print(\"Product: \", json_dat[user_prod]['name'])\n",
        "\n",
        "if(json_dat[user_prod]['qn']>user_quan):\n",
        "  print(\"Price: \", json_dat[user_prod]['pr'])\n",
        "  print(\"Billing Amount: \", json_dat[user_prod]['pr'] * user_quan)\n",
        "  json_dat[user_prod]['qn'] = json_dat[user_prod]['qn'] - user_quan\n",
        "\n",
        "  sales[i] = {'prod' : user_prod, 'qn' : user_quan, 'amount': json_dat[user_prod]['pr'] * user_quan}\n",
        "  i +=1\n",
        "else:\n",
        "  print(\"The product has limited stocks. Only \"+ str(json_dat[user_prod]['qn']) +\" are present\")\n",
        "  qty_exceed = input(\"Do you still want to purchase ? Y or N\")\n",
        "  if(qty_exceed.lower == 'y'):\n",
        "    print(\"Price: \", json_dat[user_prod]['pr'])\n",
        "    print(\"Billing Amount: \", json_dat[user_prod]['pr'] * json_dat[user_prod]['qn'])\n",
        "    json_dat[user_prod]['qn'] = 0\n",
        "\n",
        "    sales[i] = {'prod' : user_prod, 'qn' : user_quan, 'amount': json_dat[user_prod]['pr'] * user_quan}\n",
        "    i+=1\n",
        "  else:\n",
        "    exit\n",
        "\n",
        "\n",
        "\n"
      ],
      "execution_count": 54,
      "outputs": [
        {
          "output_type": "stream",
          "name": "stdout",
          "text": [
            "Enter the product id to purchase1023\n",
            "Enter the quantity to be purchased of the product specified1\n",
            "Product:  Detergent\n",
            "Price:  89\n",
            "Billing Amount:  89\n"
          ]
        }
      ]
    },
    {
      "cell_type": "code",
      "metadata": {
        "id": "yBn49ABe4biB"
      },
      "source": [
        "text_dat = json.dumps(json_dat)\n",
        "\n",
        "fd = open(\"records.json\",'w')\n",
        "fd.write(text_dat)\n",
        "fd.close()\n"
      ],
      "execution_count": 55,
      "outputs": []
    },
    {
      "cell_type": "code",
      "metadata": {
        "colab": {
          "base_uri": "https://localhost:8080/"
        },
        "id": "yZOOqyf26GR5",
        "outputId": "f2894831-6e3c-4943-a362-3d85e1d1abbb"
      },
      "source": [
        "json_dat\n"
      ],
      "execution_count": 56,
      "outputs": [
        {
          "output_type": "execute_result",
          "data": {
            "text/plain": [
              "{'1001': {'name': 'Choco Cake', 'pr': 100, 'qn': 34},\n",
              " '1002': {'name': 'Milk Cake', 'pr': 800, 'qn': 100},\n",
              " '1003': {'name': 'Drink', 'pr': 85, 'qn': 100},\n",
              " '1004': {'name': 'Candy', 'pr': 5, 'qn': 1000},\n",
              " '1005': {'name': 'Pen', 'pr': 20, 'qn': 100},\n",
              " '1006': {'name': 'Phone', 'pr': 50000, 'qn': 10},\n",
              " '1007': {'name': 'Mic', 'pr': 1500, 'qn': 0},\n",
              " '1008': {'name': 'Case', 'pr': 599, 'qn': 5},\n",
              " '1009': {'name': 'Keyboard', 'pr': 1999, 'qn': 10},\n",
              " '1010': {'name': 'Backpack', 'pr': 499, 'qn': 20},\n",
              " '1011': {'name': 'Earphone', 'pr': 300, 'qn': 50},\n",
              " '1012': {'name': 'Mobile Case', 'pr': 99, 'qn': 90},\n",
              " '1013': {'name': 'Wall Clock', 'pr': 649, 'qn': 12},\n",
              " '1014': {'name': 'Notebook', 'pr': 48, 'qn': 58},\n",
              " '1015': {'name': 'Pillow', 'pr': 299, 'qn': 30},\n",
              " '1016': {'name': 'Bedsheets', 'pr': 789, 'qn': 36},\n",
              " '1017': {'name': 'Dish Washer', 'pr': 2999, 'qn': 9},\n",
              " '1018': {'name': 'Noodles', 'pr': 78, 'qn': 35},\n",
              " '1019': {'name': 'Toys', 'pr': 35, 'qn': 15},\n",
              " '1020': {'name': 'Tubelight', 'pr': 300, 'qn': 10},\n",
              " '1021': {'name': 'Wall Stickers', 'pr': 29, 'qn': 145},\n",
              " '1022': {'name': 'Face Wash', 'pr': 150, 'qn': 32},\n",
              " '1023': {'name': 'Detergent', 'pr': 89, 'qn': 29},\n",
              " '1024': {'name': 'Soap', 'pr': 34, 'qn': 90},\n",
              " '1025': {'name': 'Lunch Box', 'pr': 550, 'qn': 20},\n",
              " '1026': {'name': 'Water Bottle', 'pr': 89, 'qn': 34},\n",
              " '1027': {'name': 'Smartphone', 'pr': 14899, 'qn': 17},\n",
              " '1028': {'name': 'DSLR', 'pr': 49000, 'qn': 7},\n",
              " '1029': {'name': 'Jeans', 'pr': 1099, 'qn': 15},\n",
              " '1030': {'name': 'Study Table', 'pr': 700, 'qn': 24},\n",
              " '1031': {'name': 'Photoframe', 'pr': 299, 'qn': 30},\n",
              " '1032': {'name': 'Books', 'pr': 199, 'qn': 25},\n",
              " '1033': {'name': 'Screen Cover', 'pr': 59, 'qn': 67},\n",
              " '1034': {'name': 'Trimmer', 'pr': 1499, 'qn': 15},\n",
              " '1035': {'name': 'Laptop', 'pr': 65499, 'qn': 0}}"
            ]
          },
          "metadata": {},
          "execution_count": 56
        }
      ]
    },
    {
      "cell_type": "code",
      "metadata": {
        "colab": {
          "base_uri": "https://localhost:8080/",
          "height": 154
        },
        "id": "yVGr9CRm6IQp",
        "outputId": "4e2ac117-1f28-4700-8f31-d46e91e50309"
      },
      "source": [
        "text_dat"
      ],
      "execution_count": 57,
      "outputs": [
        {
          "output_type": "execute_result",
          "data": {
            "application/vnd.google.colaboratory.intrinsic+json": {
              "type": "string"
            },
            "text/plain": [
              "'{\"1001\": {\"name\": \"Choco Cake\", \"qn\": 34, \"pr\": 100}, \"1002\": {\"name\": \"Milk Cake\", \"pr\": 800, \"qn\": 100}, \"1003\": {\"name\": \"Drink\", \"pr\": 85, \"qn\": 100}, \"1004\": {\"name\": \"Candy\", \"pr\": 5, \"qn\": 1000}, \"1005\": {\"name\": \"Pen\", \"pr\": 20, \"qn\": 100}, \"1006\": {\"name\": \"Phone\", \"pr\": 50000, \"qn\": 10}, \"1007\": {\"name\": \"Mic\", \"pr\": 1500, \"qn\": 0}, \"1008\": {\"name\": \"Case\", \"pr\": 599, \"qn\": 5}, \"1009\": {\"name\": \"Keyboard\", \"pr\": 1999, \"qn\": 10}, \"1010\": {\"name\": \"Backpack\", \"pr\": 499, \"qn\": 20}, \"1011\": {\"name\": \"Earphone\", \"pr\": 300, \"qn\": 50}, \"1012\": {\"name\": \"Mobile Case\", \"pr\": 99, \"qn\": 90}, \"1013\": {\"name\": \"Wall Clock\", \"pr\": 649, \"qn\": 12}, \"1014\": {\"name\": \"Notebook\", \"pr\": 48, \"qn\": 58}, \"1015\": {\"name\": \"Pillow\", \"pr\": 299, \"qn\": 30}, \"1016\": {\"name\": \"Bedsheets\", \"pr\": 789, \"qn\": 36}, \"1017\": {\"name\": \"Dish Washer\", \"pr\": 2999, \"qn\": 9}, \"1018\": {\"name\": \"Noodles\", \"pr\": 78, \"qn\": 35}, \"1019\": {\"name\": \"Toys\", \"pr\": 35, \"qn\": 15}, \"1020\": {\"name\": \"Tubelight\", \"pr\": 300, \"qn\": 10}, \"1021\": {\"name\": \"Wall Stickers\", \"pr\": 29, \"qn\": 145}, \"1022\": {\"name\": \"Face Wash\", \"pr\": 150, \"qn\": 32}, \"1023\": {\"name\": \"Detergent\", \"pr\": 89, \"qn\": 29}, \"1024\": {\"name\": \"Soap\", \"pr\": 34, \"qn\": 90}, \"1025\": {\"name\": \"Lunch Box\", \"pr\": 550, \"qn\": 20}, \"1026\": {\"name\": \"Water Bottle\", \"pr\": 89, \"qn\": 34}, \"1027\": {\"name\": \"Smartphone\", \"pr\": 14899, \"qn\": 17}, \"1028\": {\"name\": \"DSLR\", \"pr\": 49000, \"qn\": 7}, \"1029\": {\"name\": \"Jeans\", \"pr\": 1099, \"qn\": 15}, \"1030\": {\"name\": \"Study Table\", \"pr\": 700, \"qn\": 24}, \"1031\": {\"name\": \"Photoframe\", \"pr\": 299, \"qn\": 30}, \"1032\": {\"name\": \"Books\", \"pr\": 199, \"qn\": 25}, \"1033\": {\"name\": \"Screen Cover\", \"pr\": 59, \"qn\": 67}, \"1034\": {\"name\": \"Trimmer\", \"pr\": 1499, \"qn\": 15}, \"1035\": {\"name\": \"Laptop\", \"pr\": 65499, \"qn\": 0}}'"
            ]
          },
          "metadata": {},
          "execution_count": 57
        }
      ]
    },
    {
      "cell_type": "markdown",
      "metadata": {
        "id": "6SbqRb016Vwy"
      },
      "source": [
        "# **SALES JSON FILE**"
      ]
    },
    {
      "cell_type": "code",
      "metadata": {
        "id": "UjeSphV361GF"
      },
      "source": [
        "sale_text = json.dumps(sales)\n"
      ],
      "execution_count": 58,
      "outputs": []
    },
    {
      "cell_type": "code",
      "metadata": {
        "id": "FZhJBnfM67ez"
      },
      "source": [
        "sale_text = json.dumps(sales)\n",
        "\n",
        "fd =open(\"sales.json\",'w')\n",
        "fd.write(sale_text)\n",
        "fd.close()"
      ],
      "execution_count": 59,
      "outputs": []
    },
    {
      "cell_type": "code",
      "metadata": {
        "colab": {
          "base_uri": "https://localhost:8080/",
          "height": 52
        },
        "id": "5pnRxe-m7T08",
        "outputId": "942fcfb2-1987-463f-ce73-3d2a9b302439"
      },
      "source": [
        "sale_text"
      ],
      "execution_count": 60,
      "outputs": [
        {
          "output_type": "execute_result",
          "data": {
            "application/vnd.google.colaboratory.intrinsic+json": {
              "type": "string"
            },
            "text/plain": [
              "'{\"1\": {\"prod\": \"1023\", \"qn\": 1, \"amount\": 89}, \"2\": {\"prod\": \"1033\", \"qn\": 3, \"amount\": 177}, \"3\": {\"prod\": \"1033\", \"qn\": 3, \"amount\": 177}, \"0\": {\"prod\": \"1030\", \"qn\": 1, \"amount\": 700}}'"
            ]
          },
          "metadata": {},
          "execution_count": 60
        }
      ]
    }
  ]
}