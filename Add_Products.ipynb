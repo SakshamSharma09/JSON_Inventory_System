{
  "nbformat": 4,
  "nbformat_minor": 0,
  "metadata": {
    "colab": {
      "name": "Add_Products.ipynb",
      "provenance": []
    },
    "kernelspec": {
      "name": "python3",
      "display_name": "Python 3"
    },
    "language_info": {
      "name": "python"
    }
  },
  "cells": [
    {
      "cell_type": "code",
      "metadata": {
        "id": "AuXmW8WPHwLq"
      },
      "source": [
        "import json"
      ],
      "execution_count": 4,
      "outputs": []
    },
    {
      "cell_type": "code",
      "metadata": {
        "colab": {
          "base_uri": "https://localhost:8080/"
        },
        "id": "a2hsyHH-IGv7",
        "outputId": "c5757e41-3bc3-43d2-faed-458ee2b75479"
      },
      "source": [
        "file = open(\"record.json\",'r')\n",
        "data = file.read()\n",
        "file.close"
      ],
      "execution_count": 1,
      "outputs": [
        {
          "output_type": "execute_result",
          "data": {
            "text/plain": [
              "<function TextIOWrapper.close>"
            ]
          },
          "metadata": {},
          "execution_count": 1
        }
      ]
    },
    {
      "cell_type": "code",
      "metadata": {
        "colab": {
          "base_uri": "https://localhost:8080/",
          "height": 86
        },
        "id": "LGXnQv8GtVPi",
        "outputId": "ab448ece-40d4-4098-bdb6-81f4efecdce0"
      },
      "source": [
        "data"
      ],
      "execution_count": 2,
      "outputs": [
        {
          "output_type": "execute_result",
          "data": {
            "application/vnd.google.colaboratory.intrinsic+json": {
              "type": "string"
            },
            "text/plain": [
              "'{\"1001\": {\"name\": \"Choco Cake\", \"qn\": 34, \"pr\": 100}, \"1002\": {\"name\": \"Milk Cake\", \"pr\": 800, \"qn\": 100}, \"1003\": {\"name\": \"Drink\", \"pr\": 85, \"qn\": 100}, \"1004\": {\"name\": \"Candy\", \"pr\": 5, \"qn\": 1000}, \"1005\": {\"name\": \"Pen\", \"pr\": 20, \"qn\": 100}, \"1006\": {\"name\": \"Phone\", \"pr\": 50000, \"qn\": 10}, \"1007\": {\"name\": \"Mic\", \"pr\": 1500, \"qn\": 0}, \"1008\": {\"name\": \"Case\", \"pr\": 599, \"qn\": 5}, \"1009\": {\"name\": \"Keyboard\", \"pr\": 1999, \"qn\": 10}}'"
            ]
          },
          "metadata": {},
          "execution_count": 2
        }
      ]
    },
    {
      "cell_type": "code",
      "metadata": {
        "id": "3A3Rd72etj3w"
      },
      "source": [
        "json_data = json.loads(data)"
      ],
      "execution_count": 5,
      "outputs": []
    },
    {
      "cell_type": "code",
      "metadata": {
        "colab": {
          "base_uri": "https://localhost:8080/"
        },
        "id": "l0a-MBw0ttPZ",
        "outputId": "21930f0f-1eb7-4f05-afb9-ec011becac73"
      },
      "source": [
        "json_data"
      ],
      "execution_count": 6,
      "outputs": [
        {
          "output_type": "execute_result",
          "data": {
            "text/plain": [
              "{'1001': {'name': 'Choco Cake', 'pr': 100, 'qn': 34},\n",
              " '1002': {'name': 'Milk Cake', 'pr': 800, 'qn': 100},\n",
              " '1003': {'name': 'Drink', 'pr': 85, 'qn': 100},\n",
              " '1004': {'name': 'Candy', 'pr': 5, 'qn': 1000},\n",
              " '1005': {'name': 'Pen', 'pr': 20, 'qn': 100},\n",
              " '1006': {'name': 'Phone', 'pr': 50000, 'qn': 10},\n",
              " '1007': {'name': 'Mic', 'pr': 1500, 'qn': 0},\n",
              " '1008': {'name': 'Case', 'pr': 599, 'qn': 5},\n",
              " '1009': {'name': 'Keyboard', 'pr': 1999, 'qn': 10}}"
            ]
          },
          "metadata": {},
          "execution_count": 6
        }
      ]
    },
    {
      "cell_type": "markdown",
      "metadata": {
        "id": "54QylAjFy4el"
      },
      "source": [
        "# **Add New Product**\n"
      ]
    },
    {
      "cell_type": "code",
      "metadata": {
        "colab": {
          "base_uri": "https://localhost:8080/"
        },
        "id": "DFoyOMsyt2e0",
        "outputId": "ae46e2d5-b863-478c-f868-96cd53354742"
      },
      "source": [
        "prod_id = str(input(\"Enter the product id\"))\n",
        "prod_name = str(input(\"Enter the name of item\"))\n",
        "prod_price = str(input(\"Enter the price of item\"))\n",
        "prod_quan = str(input(\"Enter the quantity of item\"))\n",
        "\n",
        "json_data[prod_id] = {'name':prod_name , 'pr':int(prod_price) , 'qn':int(prod_quan)}\n",
        "\n"
      ],
      "execution_count": 46,
      "outputs": [
        {
          "name": "stdout",
          "output_type": "stream",
          "text": [
            "Enter the product id1035\n",
            "Enter the name of itemLaptop\n",
            "Enter the price of item65499\n",
            "Enter the quantity of item4\n"
          ]
        }
      ]
    },
    {
      "cell_type": "code",
      "metadata": {
        "colab": {
          "base_uri": "https://localhost:8080/"
        },
        "id": "2VMtnK3Cvruw",
        "outputId": "663a8a78-41fb-44e5-c64b-47a6a668b94a"
      },
      "source": [
        "json_data"
      ],
      "execution_count": 47,
      "outputs": [
        {
          "output_type": "execute_result",
          "data": {
            "text/plain": [
              "{'1001': {'name': 'Choco Cake', 'pr': 100, 'qn': 34},\n",
              " '1002': {'name': 'Milk Cake', 'pr': 800, 'qn': 100},\n",
              " '1003': {'name': 'Drink', 'pr': 85, 'qn': 100},\n",
              " '1004': {'name': 'Candy', 'pr': 5, 'qn': 1000},\n",
              " '1005': {'name': 'Pen', 'pr': 20, 'qn': 100},\n",
              " '1006': {'name': 'Phone', 'pr': 50000, 'qn': 10},\n",
              " '1007': {'name': 'Mic', 'pr': 1500, 'qn': 0},\n",
              " '1008': {'name': 'Case', 'pr': 599, 'qn': 5},\n",
              " '1009': {'name': 'Keyboard', 'pr': 1999, 'qn': 10},\n",
              " '1010': {'name': 'Backpack', 'pr': 499, 'qn': 20},\n",
              " '1011': {'name': 'Earphone', 'pr': 300, 'qn': 50},\n",
              " '1012': {'name': 'Mobile Case', 'pr': 99, 'qn': 90},\n",
              " '1013': {'name': 'Wall Clock', 'pr': 649, 'qn': 12},\n",
              " '1014': {'name': 'Notebook', 'pr': 48, 'qn': 58},\n",
              " '1015': {'name': 'Pillow', 'pr': 299, 'qn': 30},\n",
              " '1016': {'name': 'Bedsheets', 'pr': 789, 'qn': 36},\n",
              " '1017': {'name': 'Dish Washer', 'pr': 2999, 'qn': 9},\n",
              " '1018': {'name': 'Noodles', 'pr': 78, 'qn': 35},\n",
              " '1019': {'name': 'Toys', 'pr': 35, 'qn': 15},\n",
              " '1020': {'name': 'Tubelight', 'pr': 300, 'qn': 13},\n",
              " '1021': {'name': 'Wall Stickers', 'pr': 29, 'qn': 145},\n",
              " '1022': {'name': 'Face Wash', 'pr': 150, 'qn': 32},\n",
              " '1023': {'name': 'Detergent', 'pr': 89, 'qn': 30},\n",
              " '1024': {'name': 'Soap', 'pr': 34, 'qn': 90},\n",
              " '1025': {'name': 'Lunch Box', 'pr': 550, 'qn': 20},\n",
              " '1026': {'name': 'Water Bottle', 'pr': 89, 'qn': 34},\n",
              " '1027': {'name': 'Smartphone', 'pr': 14899, 'qn': 17},\n",
              " '1028': {'name': 'DSLR', 'pr': 49000, 'qn': 7},\n",
              " '1029': {'name': 'Jeans', 'pr': 1099, 'qn': 15},\n",
              " '1030': {'name': 'Study Table', 'pr': 700, 'qn': 25},\n",
              " '1031': {'name': 'Photoframe', 'pr': 299, 'qn': 30},\n",
              " '1032': {'name': 'Books', 'pr': 199, 'qn': 25},\n",
              " '1033': {'name': 'Screen Cover', 'pr': 59, 'qn': 70},\n",
              " '1034': {'name': 'Trimmer', 'pr': 1499, 'qn': 15},\n",
              " '1035': {'name': 'Laptop', 'pr': 65499, 'qn': 4}}"
            ]
          },
          "metadata": {},
          "execution_count": 47
        }
      ]
    },
    {
      "cell_type": "code",
      "metadata": {
        "id": "tscm3bTPzNUb"
      },
      "source": [
        "text_data = json.dumps(json_data)\n",
        "\n",
        "fd =open(\"records.json\",'w')\n",
        "fd.write(text_data)\n",
        "fd.close()"
      ],
      "execution_count": 49,
      "outputs": []
    },
    {
      "cell_type": "code",
      "metadata": {
        "colab": {
          "base_uri": "https://localhost:8080/"
        },
        "id": "kCDztqNQz7mi",
        "outputId": "c91a87f4-f323-4f31-827e-08cc19cc8484"
      },
      "source": [
        "json_data"
      ],
      "execution_count": 50,
      "outputs": [
        {
          "output_type": "execute_result",
          "data": {
            "text/plain": [
              "{'1001': {'name': 'Choco Cake', 'pr': 100, 'qn': 34},\n",
              " '1002': {'name': 'Milk Cake', 'pr': 800, 'qn': 100},\n",
              " '1003': {'name': 'Drink', 'pr': 85, 'qn': 100},\n",
              " '1004': {'name': 'Candy', 'pr': 5, 'qn': 1000},\n",
              " '1005': {'name': 'Pen', 'pr': 20, 'qn': 100},\n",
              " '1006': {'name': 'Phone', 'pr': 50000, 'qn': 10},\n",
              " '1007': {'name': 'Mic', 'pr': 1500, 'qn': 0},\n",
              " '1008': {'name': 'Case', 'pr': 599, 'qn': 5},\n",
              " '1009': {'name': 'Keyboard', 'pr': 1999, 'qn': 10},\n",
              " '1010': {'name': 'Backpack', 'pr': 499, 'qn': 20},\n",
              " '1011': {'name': 'Earphone', 'pr': 300, 'qn': 50},\n",
              " '1012': {'name': 'Mobile Case', 'pr': 99, 'qn': 90},\n",
              " '1013': {'name': 'Wall Clock', 'pr': 649, 'qn': 12},\n",
              " '1014': {'name': 'Notebook', 'pr': 48, 'qn': 58},\n",
              " '1015': {'name': 'Pillow', 'pr': 299, 'qn': 30},\n",
              " '1016': {'name': 'Bedsheets', 'pr': 789, 'qn': 36},\n",
              " '1017': {'name': 'Dish Washer', 'pr': 2999, 'qn': 9},\n",
              " '1018': {'name': 'Noodles', 'pr': 78, 'qn': 35},\n",
              " '1019': {'name': 'Toys', 'pr': 35, 'qn': 15},\n",
              " '1020': {'name': 'Tubelight', 'pr': 300, 'qn': 13},\n",
              " '1021': {'name': 'Wall Stickers', 'pr': 29, 'qn': 145},\n",
              " '1022': {'name': 'Face Wash', 'pr': 150, 'qn': 32},\n",
              " '1023': {'name': 'Detergent', 'pr': 89, 'qn': 30},\n",
              " '1024': {'name': 'Soap', 'pr': 34, 'qn': 90},\n",
              " '1025': {'name': 'Lunch Box', 'pr': 550, 'qn': 20},\n",
              " '1026': {'name': 'Water Bottle', 'pr': 89, 'qn': 34},\n",
              " '1027': {'name': 'Smartphone', 'pr': 14899, 'qn': 17},\n",
              " '1028': {'name': 'DSLR', 'pr': 49000, 'qn': 7},\n",
              " '1029': {'name': 'Jeans', 'pr': 1099, 'qn': 15},\n",
              " '1030': {'name': 'Study Table', 'pr': 700, 'qn': 25},\n",
              " '1031': {'name': 'Photoframe', 'pr': 299, 'qn': 30},\n",
              " '1032': {'name': 'Books', 'pr': 199, 'qn': 25},\n",
              " '1033': {'name': 'Screen Cover', 'pr': 59, 'qn': 70},\n",
              " '1034': {'name': 'Trimmer', 'pr': 1499, 'qn': 15},\n",
              " '1035': {'name': 'Laptop', 'pr': 65499, 'qn': 4}}"
            ]
          },
          "metadata": {},
          "execution_count": 50
        }
      ]
    },
    {
      "cell_type": "code",
      "metadata": {
        "colab": {
          "base_uri": "https://localhost:8080/",
          "height": 154
        },
        "id": "Zrn-3M4Dz-ld",
        "outputId": "0cc2eaca-879b-43b7-dff9-f0da4591add6"
      },
      "source": [
        "text_data"
      ],
      "execution_count": 51,
      "outputs": [
        {
          "output_type": "execute_result",
          "data": {
            "application/vnd.google.colaboratory.intrinsic+json": {
              "type": "string"
            },
            "text/plain": [
              "'{\"1001\": {\"name\": \"Choco Cake\", \"qn\": 34, \"pr\": 100}, \"1002\": {\"name\": \"Milk Cake\", \"pr\": 800, \"qn\": 100}, \"1003\": {\"name\": \"Drink\", \"pr\": 85, \"qn\": 100}, \"1004\": {\"name\": \"Candy\", \"pr\": 5, \"qn\": 1000}, \"1005\": {\"name\": \"Pen\", \"pr\": 20, \"qn\": 100}, \"1006\": {\"name\": \"Phone\", \"pr\": 50000, \"qn\": 10}, \"1007\": {\"name\": \"Mic\", \"pr\": 1500, \"qn\": 0}, \"1008\": {\"name\": \"Case\", \"pr\": 599, \"qn\": 5}, \"1009\": {\"name\": \"Keyboard\", \"pr\": 1999, \"qn\": 10}, \"1010\": {\"name\": \"Backpack\", \"pr\": 499, \"qn\": 20}, \"1011\": {\"name\": \"Earphone\", \"pr\": 300, \"qn\": 50}, \"1012\": {\"name\": \"Mobile Case\", \"pr\": 99, \"qn\": 90}, \"1013\": {\"name\": \"Wall Clock\", \"pr\": 649, \"qn\": 12}, \"1014\": {\"name\": \"Notebook\", \"pr\": 48, \"qn\": 58}, \"1015\": {\"name\": \"Pillow\", \"pr\": 299, \"qn\": 30}, \"1016\": {\"name\": \"Bedsheets\", \"pr\": 789, \"qn\": 36}, \"1017\": {\"name\": \"Dish Washer\", \"pr\": 2999, \"qn\": 9}, \"1018\": {\"name\": \"Noodles\", \"pr\": 78, \"qn\": 35}, \"1019\": {\"name\": \"Toys\", \"pr\": 35, \"qn\": 15}, \"1020\": {\"name\": \"Tubelight\", \"pr\": 300, \"qn\": 13}, \"1021\": {\"name\": \"Wall Stickers\", \"pr\": 29, \"qn\": 145}, \"1022\": {\"name\": \"Face Wash\", \"pr\": 150, \"qn\": 32}, \"1023\": {\"name\": \"Detergent\", \"pr\": 89, \"qn\": 30}, \"1024\": {\"name\": \"Soap\", \"pr\": 34, \"qn\": 90}, \"1025\": {\"name\": \"Lunch Box\", \"pr\": 550, \"qn\": 20}, \"1026\": {\"name\": \"Water Bottle\", \"pr\": 89, \"qn\": 34}, \"1027\": {\"name\": \"Smartphone\", \"pr\": 14899, \"qn\": 17}, \"1028\": {\"name\": \"DSLR\", \"pr\": 49000, \"qn\": 7}, \"1029\": {\"name\": \"Jeans\", \"pr\": 1099, \"qn\": 15}, \"1030\": {\"name\": \"Study Table\", \"pr\": 700, \"qn\": 25}, \"1031\": {\"name\": \"Photoframe\", \"pr\": 299, \"qn\": 30}, \"1032\": {\"name\": \"Books\", \"pr\": 199, \"qn\": 25}, \"1033\": {\"name\": \"Screen Cover\", \"pr\": 59, \"qn\": 70}, \"1034\": {\"name\": \"Trimmer\", \"pr\": 1499, \"qn\": 15}, \"1035\": {\"name\": \"Laptop\", \"pr\": 65499, \"qn\": 4}}'"
            ]
          },
          "metadata": {},
          "execution_count": 51
        }
      ]
    }
  ]
}